{
 "cells": [
  {
   "cell_type": "markdown",
   "metadata": {
    "dotnet_interactive": {
     "language": "csharp"
    },
    "polyglot_notebook": {
     "kernelName": "csharp"
    }
   },
   "source": [
    "# Lab04.3  การวาดแผนภาพตามแนวคิด generalization abstraction"
   ]
  },
  {
   "cell_type": "markdown",
   "metadata": {},
   "source": [
    "### 4.3.1  คลาสของสัตว์\n",
    "\n",
    "#### 4.3.1.1 Mammals\n",
    "\n",
    "- Dogs, cats, horses, duckbill platypuses, kangaroos, dolphins และ whales เป็นสัตว์เลี้ยงลูกด้วยนม\n",
    "- ตัวอ่อนดื่มนมเป็นอาหาร และมีขนตามร่างกาย\n",
    "\n",
    "#### วิเคราะห์คลาสหลัก Mammals \n",
    "Attributes \n",
    "- สีขน\n",
    "- อายุ\n",
    "- เพศ\n",
    "\n",
    "Methods\n",
    " - กินอาหาร\n",
    " - เคลื่อนที่\n",
    "\n",
    "``` plantuml\n",
    "@startuml\n",
    "class Mammal\n",
    "{\n",
    "    + color\n",
    "    - age\n",
    "    - gender\n",
    "    + eat()\n",
    "    + move()\n",
    "}\n",
    "@enduml\n",
    "```\n",
    "\n",
    "ผลที่ได้จาก  code ด้านบน\n",
    "\n",
    "![](./Pictures/Pict-32.png )"
   ]
  },
  {
   "cell_type": "markdown",
   "metadata": {},
   "source": [
    "####  คลาสย่อยสำหรับสัตว์\n",
    "\n",
    "\n",
    "``` plantuml\n",
    "@startuml\n",
    "class Dogs\n",
    "class cats\n",
    "class horses\n",
    "class platypuses\n",
    "class kangaroos\n",
    "class dolphins\n",
    "class whales\n",
    "@enduml\n",
    "```\n",
    "\n",
    "![](./Pictures/Pict-33.png)\n"
   ]
  },
  {
   "cell_type": "markdown",
   "metadata": {},
   "source": [
    "#### การแสดงความสัมพันธ์ generalization\n",
    "\n",
    "ทำได้โดยการใช้เครื่องหมายลูกศรสามเหลี่ยม หรือเขียนเป็นสัญลักษณ์ด้วย code ดังตัวอย่างด้านล่างนี้\n",
    "\n",
    "``` plantuml\n",
    "@startuml\n",
    "\"Base class\" <|-- \"Inherited class\"\n",
    "@enduml\n",
    "```"
   ]
  },
  {
   "cell_type": "markdown",
   "metadata": {},
   "source": [
    "### ตัวอย่างระบบคลาสของ mammals\n",
    "\n",
    "``` plantuml\n",
    "@startuml \n",
    "class Mammal\n",
    "{\n",
    "    + color\n",
    "    - age\n",
    "    - gender\n",
    "    + eat()\n",
    "    + move()\n",
    "}\n",
    "\n",
    "class Dogs\n",
    "class cats\n",
    "class horses\n",
    "class platypuses\n",
    "class kangaroos\n",
    "class dolphins\n",
    "class whales\n",
    "\n",
    "Mammal <|-- Dogs\n",
    "Mammal <|-- cats\n",
    "Mammal <|-- horses\n",
    "Mammal <|-- platypuses\n",
    "Mammal <|-- kangaroos\n",
    "Mammal <|-- dolphins\n",
    "Mammal <|-- whales\n",
    "@enduml\n",
    "```\n",
    "\n",
    "![](./Pictures/Pict-34.png)"
   ]
  }
 ],
 "metadata": {
  "kernelspec": {
   "display_name": ".NET (C#)",
   "language": "C#",
   "name": ".net-csharp"
  },
  "polyglot_notebook": {
   "kernelInfo": {
    "defaultKernelName": "csharp",
    "items": [
     {
      "aliases": [],
      "languageName": "csharp",
      "name": "csharp"
     }
    ]
   }
  }
 },
 "nbformat": 4,
 "nbformat_minor": 2
}
