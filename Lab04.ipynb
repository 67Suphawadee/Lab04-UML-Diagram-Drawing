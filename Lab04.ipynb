{
 "cells": [
  {
   "cell_type": "markdown",
   "metadata": {},
   "source": [
    "# ใบงานที่ 4 การวาดไดอะแกรม UML"
   ]
  },
  {
   "cell_type": "markdown",
   "metadata": {},
   "source": [
    "## การทดลอง \n",
    "\n",
    "### Lab 4.1 [การใช้งาน Plantuml](Lab04-1.ipynb) \n",
    "\n",
    "### Lab 4.2 [การใช้งาน Plantuml (Online)](Lab04-2.ipynb)\n",
    " \n",
    "### Lab 4.3 [การวาดแผนภาพตามแนวคิด generalization abstraction](Lab04-3.ipynb)\n",
    " \n",
    "### Lab 4.4 [การวาดแผนภาพตามแนวคิด Association abstraction](Lab04-4.ipynb) \n",
    "\n",
    "### Lab 4.5 [การวาดไดอะแกรมที่มีองค์ประกอบมากขึ้น](Lab04-5.ipynb) \n"
   ]
  },
  {
   "cell_type": "markdown",
   "metadata": {},
   "source": [
    "---"
   ]
  },
  {
   "cell_type": "markdown",
   "metadata": {},
   "source": [
    "## ศึกษาเพิ่มเติม\n",
    "\n",
    "### PlantUML part 1 Intro\n",
    "- [PlantUML part 1 Intro - PDF](./Slides/PlantUML_part_1_Intro.pdf)\n",
    "- [PlantUML part 1 Intro - PPTX](./Slides/OOP-Week-03-Abstracion-and-UML-Diagram-(1).pptx)\n",
    "- ตอนที่ 1 แนะนำ PlantUML https://youtu.be/Iwu3LMvIO6k \n",
    "\n",
    "### PlantUML part 2 PlantUML VSCode\n",
    "- [PlantUML part 2 PlantUML VSCode - PDF](./Slides/PlantUML_part_2_PlantUML_VSCode.pdf)\n",
    "- [PlantUML part 2 PlantUML VSCode - PPTX](./Slides/PlantUML_part_2_PlantUML_VSCode.pptx)\n",
    "- ตอนที่ 2 การใช้ PlantUML บน VSCode https://youtu.be/BNwNFfjtCmk \n",
    "\n",
    "### PlantUML part 3 PlantUML Auto Generate\n",
    "- [PlantUML part 3 PlantUML AutoGen - PDF](./Slides/PlantUML_part_3_PlantUML_AutoGen.pdf)\n",
    "- [PlantUML part 3 PlantUML AutoGen - PPTX](./Slides/PlantUML_part_3_PlantUML_AutoGen.pptx)\n",
    "- ตอนที่ 3 การใช้ PlantUML ร่วมกับ GraphViz แบบ offline https://youtu.be/\n"
   ]
  }
 ],
 "metadata": {
  "kernelspec": {
   "display_name": ".NET (C#)",
   "language": "C#",
   "name": ".net-csharp"
  },
  "polyglot_notebook": {
   "kernelInfo": {
    "defaultKernelName": "csharp",
    "items": [
     {
      "aliases": [],
      "languageName": "csharp",
      "name": "csharp"
     }
    ]
   }
  }
 },
 "nbformat": 4,
 "nbformat_minor": 2
}
